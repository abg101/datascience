{
 "cells": [
  {
   "cell_type": "code",
   "execution_count": 1,
   "metadata": {},
   "outputs": [],
   "source": [
    "import pandas as pd\n",
    "import numpy as np\n",
    "import matplotlib\n",
    "import matplotlib.pyplot as plt\n",
    "import scipy.io\n",
    "from scipy.signal import welch\n",
    "import scipy.stats\n",
    "import math\n",
    "import collections\n",
    "import csv\n",
    "import networkx as nx"
   ]
  },
  {
   "cell_type": "code",
   "execution_count": 2,
   "metadata": {},
   "outputs": [
    {
     "name": "stdout",
     "output_type": "stream",
     "text": [
      "3998\n",
      "7880\n"
     ]
    },
    {
     "data": {
      "image/png": "[encoded data removed]",
      "text/plain": [
       "<matplotlib.figure.Figure at 0x7f2fa6bfc048>"
      ]
     },
     "metadata": {},
     "output_type": "display_data"
    }
   ],
   "source": [
    "\n",
    "#matr = []\n",
    "g = nx.Graph()\n",
    "with open('data.csv', 'r') as f:\n",
    "   reader = csv.reader(f,delimiter=',')\n",
    "   for row in reader:\n",
    "       x = (row[3].strip().split('&'))\n",
    "       linea = []\n",
    "       for auth in x:\n",
    "          linea.append(auth.strip())\n",
    "       g.add_nodes_from(linea)\n",
    "       for i in range(len(linea)):\n",
    "           for j in range(i+1,len(linea)):\n",
    "               g.add_edge(linea[i],linea[j])\n",
    "print(g.number_of_nodes())\n",
    "print(g.number_of_edges())\n",
    "\n",
    "gc = max(nx.connected_component_subgraphs(g),key=len)\n",
    "#print(gc.number_of_nodes())\n",
    "#print(gc.number_of_edges())\n",
    "\n",
    "#nx.draw(gc,pos=nx.spring_layout(gc))\n",
    "\n",
    "#plt.show()\n",
    "       #matr.append(linea)\n",
    "#print (matr)\n",
    "\n",
    "#degrees = np.array(nx.degree_histogram(g))\n",
    "#print (degrees)\n",
    "#plt.hist(degrees,bins=range(0,len(degrees)))\n",
    "#plt.show()\n",
    "\n",
    "\n",
    "degrees = np.array(nx.degree_histogram(g))\n",
    "plt.loglog(x=range(0,len(degrees)),y=degrees)\n",
    "plt.xlim(-100,100)\n",
    "plt.ylim(-100,100)\n",
    "plt.show()\n"
   ]
  },
  {
   "cell_type": "code",
   "execution_count": null,
   "metadata": {
    "collapsed": true
   },
   "outputs": [],
   "source": []
  }
 ],
 "metadata": {
  "kernelspec": {
   "display_name": "Python 3",
   "language": "python",
   "name": "python3"
  },
  "language_info": {
   "codemirror_mode": {
    "name": "ipython",
    "version": 3
   },
   "file_extension": ".py",
   "mimetype": "text/x-python",
   "name": "python",
   "nbconvert_exporter": "python",
   "pygments_lexer": "ipython3",
   "version": "3.6.2"
  }
 },
 "nbformat": 4,
 "nbformat_minor": 1
}
