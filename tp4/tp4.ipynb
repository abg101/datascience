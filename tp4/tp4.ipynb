{
 "cells": [
  {
   "cell_type": "code",
   "execution_count": 68,
   "metadata": {},
   "outputs": [],
   "source": [
    "import pandas as pd\n",
    "import numpy as np\n",
    "import matplotlib\n",
    "import matplotlib.pyplot as plt\n",
    "import scipy.io\n",
    "from scipy.signal import welch\n",
    "import scipy.stats\n",
    "import math\n",
    "import collections\n",
    "import csv\n",
    "import networkx as nx\n",
    "from random import choice"
   ]
  },
  {
   "cell_type": "code",
   "execution_count": null,
   "metadata": {},
   "outputs": [],
   "source": [
    "#Instalacion de la libreria networkx en las maquinas del labo\n",
    "\n",
    "#import pip3\n",
    "#pip3.main(['install', '--user', 'networkx'])\n"
   ]
  },
  {
   "cell_type": "markdown",
   "metadata": {},
   "source": [
    "## 1- Creación del Grafo"
   ]
  },
  {
   "cell_type": "code",
   "execution_count": 4,
   "metadata": {},
   "outputs": [
    {
     "name": "stdout",
     "output_type": "stream",
     "text": [
      "3998\n",
      "7880\n",
      "3018\n",
      "7269\n"
     ]
    }
   ],
   "source": [
    "\n",
    "#matr = []\n",
    "g = nx.Graph()\n",
    "with open('data.csv', 'r') as f:\n",
    "   reader = csv.reader(f,delimiter=',')\n",
    "   for row in reader:\n",
    "       x = (row[3].strip().split('&'))\n",
    "       linea = []\n",
    "       for auth in x:\n",
    "          linea.append(auth.strip())\n",
    "       g.add_nodes_from(linea)\n",
    "       for i in range(len(linea)):\n",
    "           for j in range(i+1,len(linea)):\n",
    "               g.add_edge(linea[i],linea[j])\n",
    "print(g.number_of_nodes())\n",
    "print(g.number_of_edges())\n",
    "\n",
    "nx.draw(g,pos=nx.spring_layout(g))\n",
    "plt.show()"
   ]
  },
  {
   "cell_type": "markdown",
   "metadata": {},
   "source": [
    "## 2-  Distribución de Grado"
   ]
  },
  {
   "cell_type": "code",
   "execution_count": 56,
   "metadata": {},
   "outputs": [],
   "source": [
    "#HISTOGRAMA DE GRADOS\n",
    "\n",
    "histograma = sorted([d for n, d in g.degree()], reverse=True)  # degree sequence\n",
    "\n",
    "#histograma = list(filter(lambda x: x > 0, histograma))\n",
    "#print(histograma)\n",
    "\n",
    "\n",
    "degreeCount = collections.Counter(histograma)\n",
    "deg, cnt = zip(*degreeCount.items())\n",
    "#deg = deg[1:]\n",
    "#cnt = cnt[1:]\n",
    "fig, ax = plt.subplots()\n",
    "plt.bar(deg, cnt, width=0.80, color='b')\n",
    "\n",
    "plt.title(\"Degree Histogram Linear\")\n",
    "plt.ylabel(\"Count\")\n",
    "plt.xlabel(\"Degree\")\n",
    "ax.set_xticks([d + 0.4 for d in deg])\n",
    "ax.set_xticklabels(deg)\n",
    "plt.show()"
   ]
  },
  {
   "cell_type": "code",
   "execution_count": 57,
   "metadata": {},
   "outputs": [],
   "source": [
    "plt.loglog(cnt,'b-',marker='o')\n",
    "plt.title(\"Degree rank plot loglog\")\n",
    "plt.ylabel(\"log log cantidad de nodos\")\n",
    "plt.xlabel(\"Degree\")\n",
    "plt.show()"
   ]
  },
  {
   "cell_type": "code",
   "execution_count": 58,
   "metadata": {
    "collapsed": true
   },
   "outputs": [],
   "source": [
    "##EXPONENCIAL\n",
    "\n",
    "plt.semilogy(cnt,'b-',marker='o')\n",
    "plt.title(\"Degree rank plot semilogy\")\n",
    "plt.ylabel(\"semilogy cantidad de nodos\")\n",
    "plt.xlabel(\"degree\")\n",
    "plt.show()"
   ]
  },
  {
   "cell_type": "markdown",
   "metadata": {},
   "source": [
    "## Ejercicio 3 Componentes conexas"
   ]
  },
  {
   "cell_type": "code",
   "execution_count": 75,
   "metadata": {},
   "outputs": [
    {
     "name": "stdout",
     "output_type": "stream",
     "text": [
      "Connected component subgraphs count: 536\n",
      "Max connected component subgraphs nodes count: 3018\n",
      "Max Connected component subgraphs edges count: 7269\n"
     ]
    }
   ],
   "source": [
    "connected_component_subgraphs = list(nx.connected_component_subgraphs(g))\n",
    "print(\"Connected component subgraphs count: \" + str(len(connected_component_subgraphs)))\n",
    "\n",
    "gc = max(connected_component_subgraphs,key=len)\n",
    "print(\"Max connected component subgraphs nodes count: \" + str(gc.number_of_nodes()))\n",
    "print(\"Max Connected component subgraphs edges count: \" + str(gc.number_of_edges()))\n"
   ]
  },
  {
   "cell_type": "code",
   "execution_count": 147,
   "metadata": {},
   "outputs": [
    {
     "name": "stdout",
     "output_type": "stream",
     "text": [
      "1033.0\n"
     ]
    }
   ],
   "source": [
    "gc = max(nx.connected_component_subgraphs(g), key=len)\n",
    "\n",
    "all_res_authors_by_jump = np.zeros((50,10))\n",
    "all_res_authors_count_difference_by_jump = np.zeros((50,10))\n",
    "\n",
    "for j in range(0, 50):\n",
    "    random_node = choice(list(gc.nodes))\n",
    "    neighbors = {random_node}\n",
    "    res = np.zeros(10)\n",
    "    res2 = np.zeros(10)\n",
    "    for i in range(0, len(res)):\n",
    "        for node in neighbors:\n",
    "            current_node_neighbors = set(gc.neighbors(node))\n",
    "            neighbors = neighbors.union(current_node_neighbors)\n",
    "            res[i] = len(neighbors)\n",
    "            if i == 0:\n",
    "                res2[i] = res[i]\n",
    "            else:\n",
    "                res2[i] = res[i] - res[i-1]\n",
    "\n",
    "    all_res_authors_by_jump[j] = res\n",
    "    all_res_authors_count_difference_by_jump[j] = res2\n",
    "\n",
    "for aut_by_jump in all_res_authors_by_jump:\n",
    "    plt.plot(aut_by_jump)\n",
    "plt.show()\n",
    "for aut_by_count_dif in all_res_authors_count_difference_by_jump:\n",
    "    plt.plot(aut_by_count_dif)\n",
    "plt.show()\n",
    "\n",
    "print(np.max(all_res_authors_count_difference_by_jump))\n"
   ]
  },
  {
   "cell_type": "code",
   "execution_count": 149,
   "metadata": {},
   "outputs": [
    {
     "data": {
      "text/plain": [
       "6.131037221593651"
      ]
     },
     "execution_count": 149,
     "metadata": {},
     "output_type": "execute_result"
    }
   ],
   "source": [
    "nx.transitivity(gc)\n",
    "nx.average_shortest_path_length(gc)"
   ]
  },
  {
   "cell_type": "code",
   "execution_count": null,
   "metadata": {
    "collapsed": true
   },
   "outputs": [],
   "source": []
  }
 ],
 "metadata": {
  "kernelspec": {
   "display_name": "Python 3",
   "language": "python",
   "name": "python3"
  },
  "language_info": {
   "codemirror_mode": {
    "name": "ipython",
    "version": 3
   },
   "file_extension": ".py",
   "mimetype": "text/x-python",
   "name": "python",
   "nbconvert_exporter": "python",
   "pygments_lexer": "ipython3",
   "version": "3.6.2"
  }
 },
 "nbformat": 4,
 "nbformat_minor": 1
}
