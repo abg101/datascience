{
 "cells": [
  {
   "cell_type": "markdown",
   "metadata": {},
   "source": [
    "# Ciencia de Datos\n",
    "## 2º Cuatrimestre de 2017\n",
    "\n",
    "## Módulo 6 - Procesamiento de Lenguaje Natural\n",
    "\n",
    "## Integrantes:\n",
    "\n",
    "- Fernández, Esteban - 691/12 - esteban.pmf@gmail.com\n",
    "- Beccar García, Augusto - 267/13 - abg101@gmail.com\n",
    "- Fadel, Uriel - 104/14 - urielfadel@gmail.com\n",
    "\n",
    "\n",
    "## Introducción"
   ]
  },
  {
   "cell_type": "markdown",
   "metadata": {},
   "source": [
    "## Librerias\n"
   ]
  },
  {
   "cell_type": "code",
   "execution_count": 1,
   "metadata": {
    "collapsed": true
   },
   "outputs": [],
   "source": [
    "from nltk.tokenize import sent_tokenize, word_tokenize\n",
    "from nltk.corpus import stopwords\n",
    "import string\n",
    "import nltk\n",
    "from nltk.stem.wordnet import WordNetLemmatizer\n",
    "lmtzr = WordNetLemmatizer()\n",
    "import collections\n",
    "from nltk.collocations import *"
   ]
  },
  {
   "cell_type": "code",
   "execution_count": null,
   "metadata": {
    "collapsed": true
   },
   "outputs": [],
   "source": [
    "nltk.download()"
   ]
  },
  {
   "cell_type": "markdown",
   "metadata": {
    "collapsed": true
   },
   "source": [
    "## Ejercicio 1:"
   ]
  },
  {
   "cell_type": "markdown",
   "metadata": {},
   "source": [
    "### a) Parseo del texto."
   ]
  },
  {
   "cell_type": "code",
   "execution_count": 3,
   "metadata": {
    "collapsed": true,
    "scrolled": true
   },
   "outputs": [],
   "source": [
    "file = open('ap/ap.txt')\n",
    "text = file.read()\n",
    " \n",
    "stopWords = set(stopwords.words('english'))\n",
    "docs_dict = {}\n",
    "splitFirst = text.split('</DOC>')[:-1]\n",
    "\n",
    "wordsCount = collections.Counter()\n",
    "\n",
    "for document in splitFirst:\n",
    "    docText = list(map(lambda sent: [word_tokenize(lmtzr.lemmatize(i.translate(None, string.punctuation))) for i in sent.lower().split() if i not in stopWords], sent_tokenize(document.split('</TEXT>')[0].split('<TEXT>')[1])))\n",
    "    docText = [item for sublist in docText for item in sublist]\n",
    "    docText = [item for sublist in docText for item in sublist]\n",
    "    docName = document.split('</TEXT>')[0].split('<TEXT>')[0].split('</DOCNO>')[0].split('<DOCNO>')[1].strip()\n",
    "    docs_dict[docName] = docText\n",
    "    wordsCount = wordsCount + collections.Counter(docText)"
   ]
  },
  {
   "cell_type": "markdown",
   "metadata": {},
   "source": [
    "### b) \n",
    "Calculamos el tamaño del vocabulario"
   ]
  },
  {
   "cell_type": "code",
   "execution_count": 6,
   "metadata": {},
   "outputs": [
    {
     "data": {
      "text/plain": [
       "416122"
      ]
     },
     "execution_count": 6,
     "metadata": {},
     "output_type": "execute_result"
    }
   ],
   "source": [
    "finder = BigramCollocationFinder.from_words([item for sublist in docs_dict.values() for item in sublist])\n",
    "bigram_measures = nltk.collocations.BigramAssocMeasures()\n",
    "len(finder.score_ngrams(bigram_measures.raw_freq))"
   ]
  },
  {
   "cell_type": "markdown",
   "metadata": {},
   "source": [
    "## c)\n",
    "Calculamos el par mas asociado para las 500 palabras de mayor aparición."
   ]
  },
  {
   "cell_type": "code",
   "execution_count": 4,
   "metadata": {},
   "outputs": [
    {
     "ename": "NameError",
     "evalue": "name 'creature_filter' is not defined",
     "output_type": "error",
     "traceback": [
      "\u001b[0;31m---------------------------------------------------------------------------\u001b[0m",
      "\u001b[0;31mNameError\u001b[0m                                 Traceback (most recent call last)",
      "\u001b[0;32m<ipython-input-4-1557bfe0cc53>\u001b[0m in \u001b[0;36m<module>\u001b[0;34m()\u001b[0m\n\u001b[1;32m     19\u001b[0m \u001b[0mfinder\u001b[0m\u001b[0;34m.\u001b[0m\u001b[0mapply_freq_filter\u001b[0m\u001b[0;34m(\u001b[0m\u001b[0;36m3\u001b[0m\u001b[0;34m)\u001b[0m\u001b[0;34m\u001b[0m\u001b[0m\n\u001b[1;32m     20\u001b[0m \u001b[0;31m# only bigrams that contain 'creature'\u001b[0m\u001b[0;34m\u001b[0m\u001b[0;34m\u001b[0m\u001b[0m\n\u001b[0;32m---> 21\u001b[0;31m \u001b[0mfinder\u001b[0m\u001b[0;34m.\u001b[0m\u001b[0mapply_ngram_filter\u001b[0m\u001b[0;34m(\u001b[0m\u001b[0mcreature_filter\u001b[0m\u001b[0;34m)\u001b[0m\u001b[0;34m\u001b[0m\u001b[0m\n\u001b[0m\u001b[1;32m     22\u001b[0m \u001b[0;31m# return the 10 n-grams with the highest PMI\u001b[0m\u001b[0;34m\u001b[0m\u001b[0;34m\u001b[0m\u001b[0m\n\u001b[1;32m     23\u001b[0m \u001b[0;32mprint\u001b[0m \u001b[0mfinder\u001b[0m\u001b[0;34m.\u001b[0m\u001b[0mnbest\u001b[0m\u001b[0;34m(\u001b[0m\u001b[0mbigram_measures\u001b[0m\u001b[0;34m.\u001b[0m\u001b[0mlikelihood_ratio\u001b[0m\u001b[0;34m,\u001b[0m \u001b[0;36m10\u001b[0m\u001b[0;34m)\u001b[0m\u001b[0;34m\u001b[0m\u001b[0m\n",
      "\u001b[0;31mNameError\u001b[0m: name 'creature_filter' is not defined"
     ]
    }
   ],
   "source": [
    "most_freq_words = sorted(list(wordsCount.items()), key=lambda x: x[1])[-500:]\n",
    "\n",
    "bigram_measures = nltk.collocations.BigramAssocMeasures()\n",
    "\n",
    "\n",
    "def allMembersAreFrequent(w):\n",
    "    res = True\n",
    "    for word in w:\n",
    "        word\n",
    "\n",
    "# Ngrams with 'creature' as a member\n",
    "freq_words_filter = lambda *w: allMembersAreFrequent(w)\n",
    "\n",
    "\n",
    "## Bigrams\n",
    "finder = BigramCollocationFinder.from_words(\n",
    "   nltk.corpus.genesis.words('english-web.txt'))\n",
    "# only bigrams that appear 3+ times\n",
    "finder.apply_freq_filter(3)\n",
    "# only bigrams that contain 'creature'\n",
    "finder.apply_ngram_filter(creature_filter)\n",
    "# return the 10 n-grams with the highest PMI\n",
    "print finder.nbest(bigram_measures.likelihood_ratio, 10)\n"
   ]
  },
  {
   "cell_type": "code",
   "execution_count": null,
   "metadata": {},
   "outputs": [],
   "source": []
  },
  {
   "cell_type": "code",
   "execution_count": null,
   "metadata": {
    "collapsed": true
   },
   "outputs": [],
   "source": []
  }
 ],
 "metadata": {
  "kernelspec": {
   "display_name": "Python 2",
   "language": "python",
   "name": "python2"
  },
  "language_info": {
   "codemirror_mode": {
    "name": "ipython",
    "version": 2
   },
   "file_extension": ".py",
   "mimetype": "text/x-python",
   "name": "python",
   "nbconvert_exporter": "python",
   "pygments_lexer": "ipython2",
   "version": "2.7.14"
  }
 },
 "nbformat": 4,
 "nbformat_minor": 2
}
