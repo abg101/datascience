{
 "cells": [
  {
   "cell_type": "markdown",
   "metadata": {},
   "source": [
    "# Ciencia de Datos\n",
    "## 2º Cuatrimestre de 2017\n",
    "\n",
    "## Módulo 6 - Procesamiento de Lenguaje Natural\n",
    "\n",
    "## Integrantes:\n",
    "\n",
    "- Fernández, Esteban - 691/12 - esteban.pmf@gmail.com\n",
    "- Beccar García, Augusto - 267/13 - abg101@gmail.com\n",
    "- Fadel, Uriel - 104/14 - urielfadel@gmail.com\n",
    "\n",
    "\n",
    "## Introducción"
   ]
  },
  {
   "cell_type": "markdown",
   "metadata": {},
   "source": [
    "## Librerias\n"
   ]
  },
  {
   "cell_type": "code",
   "execution_count": 1,
   "metadata": {},
   "outputs": [],
   "source": [
    "from nltk.tokenize import sent_tokenize, word_tokenize\n",
    "from nltk.corpus import stopwords\n",
    "import string\n",
    "import nltk\n",
    "from nltk.stem.wordnet import WordNetLemmatizer\n",
    "lmtzr = WordNetLemmatizer()\n",
    "import collections\n",
    "from nltk.collocations import *"
   ]
  },
  {
   "cell_type": "markdown",
   "metadata": {
    "collapsed": true
   },
   "source": [
    "## Ejercicio 1:"
   ]
  },
  {
   "cell_type": "code",
   "execution_count": null,
   "metadata": {
    "scrolled": true
   },
   "outputs": [],
   "source": [
    "file = open('ap/ap.txt')\n",
    "text = file.read()\n",
    " \n",
    "stopWords = set(stopwords.words('english'))\n",
    "docs_dict = {}\n",
    "splitFirst = text.split('</DOC>')[:-1]\n",
    "\n",
    "wordsCount = collections.Counter()\n",
    "\n",
    "for document in splitFirst:\n",
    "    docText = list(map(lambda sent: [word_tokenize(lmtzr.lemmatize(i.translate(None, string.punctuation))) for i in sent.lower().split() if i not in stopWords], sent_tokenize(document.split('</TEXT>')[0].split('<TEXT>')[1])))\n",
    "    docText = [item for sublist in docText for item in sublist]\n",
    "    docText = [item for sublist in docText for item in sublist]\n",
    "    docName = document.split('</TEXT>')[0].split('<TEXT>')[0].split('</DOCNO>')[0].split('<DOCNO>')[1].strip()\n",
    "    docs_dict[docName] = docText\n",
    "    wordsCount = wordsCount + collections.Counter(docText)"
   ]
  },
  {
   "cell_type": "code",
   "execution_count": null,
   "metadata": {},
   "outputs": [],
   "source": [
    "finder = BigramCollocationFinder.from_words([item for sublist in docs_dict.values() for item in sublist])\n",
    "bigram_measures = nltk.collocations.BigramAssocMeasures()\n",
    "len(finder.score_ngrams(bigram_measures.raw_freq))"
   ]
  },
  {
   "cell_type": "code",
   "execution_count": null,
   "metadata": {
    "collapsed": true
   },
   "outputs": [],
   "source": [
    "most_freq_words = sorted(list(wordsCount.items()), key=lambda x: x[1])[-500:]\n",
    "\n",
    "bigram_measures = nltk.collocations.BigramAssocMeasures()\n",
    "\n",
    "\n",
    "def allMembersAreFrequent(w):\n",
    "    res = True\n",
    "    for word in w:\n",
    "        word\n",
    "\n",
    "# Ngrams with 'creature' as a member\n",
    "freq_words_filter = lambda *w: allMembersAreFrequent(w)\n",
    "\n",
    "\n",
    "## Bigrams\n",
    "finder = BigramCollocationFinder.from_words(\n",
    "   nltk.corpus.genesis.words('english-web.txt'))\n",
    "# only bigrams that appear 3+ times\n",
    "finder.apply_freq_filter(3)\n",
    "# only bigrams that contain 'creature'\n",
    "finder.apply_ngram_filter(creature_filter)\n",
    "# return the 10 n-grams with the highest PMI\n",
    "print finder.nbest(bigram_measures.likelihood_ratio, 10)\n"
   ]
  }
 ],
 "metadata": {
  "kernelspec": {
   "display_name": "Python 2",
   "language": "python",
   "name": "python2"
  },
  "language_info": {
   "codemirror_mode": {
    "name": "ipython",
    "version": 2
   },
   "file_extension": ".py",
   "mimetype": "text/x-python",
   "name": "python",
   "nbconvert_exporter": "python",
   "pygments_lexer": "ipython2",
   "version": "2.7.14"
  }
 },
 "nbformat": 4,
 "nbformat_minor": 2
}
